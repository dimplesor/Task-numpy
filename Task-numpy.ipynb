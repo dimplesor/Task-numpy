{
 "cells": [
  {
   "cell_type": "code",
   "execution_count": 3,
   "id": "7fa58c67-7297-44c6-a77a-93e02b332158",
   "metadata": {},
   "outputs": [],
   "source": [
    "import numpy as np"
   ]
  },
  {
   "cell_type": "markdown",
   "id": "3469ec13-e2e5-4bab-b0d6-13f03e91d78a",
   "metadata": {},
   "source": [
    "# Numpy is Numerical Python.\n",
    "*It is a library consisting of multidimensional array objects and a collection of routines for processing of array."
   ]
  },
  {
   "cell_type": "markdown",
   "id": "bb0fbfda-8f0c-4488-b0fc-b1383688ea86",
   "metadata": {},
   "source": [
    "# Numpy Functions"
   ]
  },
  {
   "cell_type": "code",
   "execution_count": 4,
   "id": "39e5d10a-3eb9-4a26-a7c1-f5ca7cdea6dc",
   "metadata": {},
   "outputs": [
    {
     "data": {
      "text/plain": [
       "array([[1, 2, 3, 4],\n",
       "       [5, 6, 7, 8]])"
      ]
     },
     "execution_count": 4,
     "metadata": {},
     "output_type": "execute_result"
    }
   ],
   "source": [
    "array1 = np.array([[1,2,3,4],[5,6,7,8]])\r\n",
    "array1"
   ]
  },
  {
   "cell_type": "markdown",
   "id": "cef36417-c35f-4232-adbc-285124c0b942",
   "metadata": {},
   "source": [
    "### np.zeros"
   ]
  },
  {
   "cell_type": "code",
   "execution_count": 5,
   "id": "4715ad17-b9df-47f6-9daa-d3df8062b23f",
   "metadata": {},
   "outputs": [
    {
     "data": {
      "text/plain": [
       "array([[0, 0, 0],\n",
       "       [0, 0, 0],\n",
       "       [0, 0, 0],\n",
       "       [0, 0, 0]])"
      ]
     },
     "execution_count": 5,
     "metadata": {},
     "output_type": "execute_result"
    }
   ],
   "source": [
    "array2 = np.zeros((4,3) , dtype=int)   # Default dtype = float\n",
    "array2"
   ]
  },
  {
   "cell_type": "markdown",
   "id": "41092608-5d55-4b06-bdae-2c4cca25cbf7",
   "metadata": {},
   "source": [
    "### np.ones"
   ]
  },
  {
   "cell_type": "code",
   "execution_count": 6,
   "id": "9b6a4a0c-f93d-4752-9083-9f84c8c71233",
   "metadata": {},
   "outputs": [
    {
     "data": {
      "text/plain": [
       "array([[1, 1, 1],\n",
       "       [1, 1, 1]])"
      ]
     },
     "execution_count": 6,
     "metadata": {},
     "output_type": "execute_result"
    }
   ],
   "source": [
    "array3 = np.ones((2,3) , dtype=int)\n",
    "array3"
   ]
  },
  {
   "cell_type": "markdown",
   "id": "0a6046b8-fb40-4bdc-b663-f9509b732e8f",
   "metadata": {},
   "source": [
    "### np.arange"
   ]
  },
  {
   "cell_type": "code",
   "execution_count": 7,
   "id": "6eaf7e12-e7e0-433b-baf7-4c61e65d23ee",
   "metadata": {},
   "outputs": [
    {
     "data": {
      "text/plain": [
       "array([ 6,  8, 10, 12, 14, 16, 18])"
      ]
     },
     "execution_count": 7,
     "metadata": {},
     "output_type": "execute_result"
    }
   ],
   "source": [
    "array4 = np.arange(6,20,2)\n",
    "array4"
   ]
  },
  {
   "cell_type": "markdown",
   "id": "6253e5cf-c2a1-486d-a00f-5abefa7f6819",
   "metadata": {},
   "source": [
    "### random"
   ]
  },
  {
   "cell_type": "code",
   "execution_count": 10,
   "id": "a739d7bf-6f99-481f-b6ed-438f29f4a118",
   "metadata": {},
   "outputs": [
    {
     "name": "stdout",
     "output_type": "stream",
     "text": [
      "[[14 22  1  4]\n",
      " [22 12  9 17]\n",
      " [19 14 19 10]]\n"
     ]
    }
   ],
   "source": [
    "array6 = np.random.randint(0,27,size=(3,4))\n",
    "print(array6)"
   ]
  },
  {
   "cell_type": "markdown",
   "id": "2beab131-6363-4b13-81c2-d7c8fc3affbd",
   "metadata": {},
   "source": [
    "### np.full"
   ]
  },
  {
   "cell_type": "code",
   "execution_count": 13,
   "id": "5e5f9a81-6c50-4de2-bc2e-2b4959386df8",
   "metadata": {},
   "outputs": [
    {
     "name": "stdout",
     "output_type": "stream",
     "text": [
      "[[[6 6]\n",
      "  [6 6]]\n",
      "\n",
      " [[6 6]\n",
      "  [6 6]]\n",
      "\n",
      " [[6 6]\n",
      "  [6 6]]]\n"
     ]
    }
   ],
   "source": [
    "array7 = np.full((3,2,2),6)\n",
    "print(array7)"
   ]
  },
  {
   "cell_type": "code",
   "execution_count": 14,
   "id": "98cc830a-79fe-4f30-8268-6f22ec420798",
   "metadata": {},
   "outputs": [
    {
     "data": {
      "text/plain": [
       "array([[1, 3, 4, 4],\n",
       "       [2, 1, 3, 3]])"
      ]
     },
     "execution_count": 14,
     "metadata": {},
     "output_type": "execute_result"
    }
   ],
   "source": [
    "a = np.random.randint(1,5,(2,4))\n",
    "a"
   ]
  },
  {
   "cell_type": "code",
   "execution_count": 15,
   "id": "4aa1ef6a-ae13-4c01-872b-210f20d9c462",
   "metadata": {},
   "outputs": [
    {
     "data": {
      "text/plain": [
       "array([[5, 7, 9, 9],\n",
       "       [9, 5, 8, 5]])"
      ]
     },
     "execution_count": 15,
     "metadata": {},
     "output_type": "execute_result"
    }
   ],
   "source": [
    "b = np.random.randint(5,10,(2,4))\n",
    "b"
   ]
  },
  {
   "cell_type": "markdown",
   "id": "d5d47176-2a52-4bc5-821c-afa41589fe80",
   "metadata": {},
   "source": [
    "### divide"
   ]
  },
  {
   "cell_type": "code",
   "execution_count": 16,
   "id": "aafa136c-7cc5-4f98-ae60-507d2248b2d4",
   "metadata": {},
   "outputs": [
    {
     "data": {
      "text/plain": [
       "5.0"
      ]
     },
     "execution_count": 16,
     "metadata": {},
     "output_type": "execute_result"
    }
   ],
   "source": [
    "divide = np.divide(10,2)\n",
    "divide"
   ]
  },
  {
   "cell_type": "markdown",
   "id": "d547d696-6686-431c-aa54-c14801917523",
   "metadata": {},
   "source": [
    "### multiplication"
   ]
  },
  {
   "cell_type": "code",
   "execution_count": 17,
   "id": "c55478e3-4d84-4251-8725-f034a7722203",
   "metadata": {},
   "outputs": [
    {
     "data": {
      "text/plain": [
       "37200"
      ]
     },
     "execution_count": 17,
     "metadata": {},
     "output_type": "execute_result"
    }
   ],
   "source": [
    "multiply = np.multiply(186, 200)\n",
    "multiply"
   ]
  },
  {
   "cell_type": "markdown",
   "id": "c747493b-c331-4d55-8d33-a44cb8effce3",
   "metadata": {},
   "source": [
    "### Aggregation Operations\n"
   ]
  },
  {
   "cell_type": "code",
   "execution_count": 18,
   "id": "cd57e907-2770-4e41-a2f6-6d242bb1643d",
   "metadata": {},
   "outputs": [
    {
     "data": {
      "text/plain": [
       "array([[3, 1, 2, 4],\n",
       "       [3, 5, 6, 3]])"
      ]
     },
     "execution_count": 18,
     "metadata": {},
     "output_type": "execute_result"
    }
   ],
   "source": [
    "data = np.random.randint(1,10,(2,4))\n",
    "data"
   ]
  },
  {
   "cell_type": "markdown",
   "id": "b935616e-d128-4f7c-ae4f-cd6119061d00",
   "metadata": {},
   "source": [
    "### add"
   ]
  },
  {
   "cell_type": "code",
   "execution_count": 24,
   "id": "4662302d-1cbc-4400-aa24-fef953a9d358",
   "metadata": {},
   "outputs": [
    {
     "data": {
      "text/plain": [
       "array([5, 7, 9])"
      ]
     },
     "execution_count": 24,
     "metadata": {},
     "output_type": "execute_result"
    }
   ],
   "source": [
    "a = np.array([1, 2, 3])\n",
    "b = np.array([4, 5, 6])\n",
    "c = np.add(a, b)\n",
    "c\n"
   ]
  },
  {
   "cell_type": "markdown",
   "id": "f744d293-0861-4753-b6fc-213bcbd69804",
   "metadata": {},
   "source": [
    "### subtract"
   ]
  },
  {
   "cell_type": "code",
   "execution_count": 27,
   "id": "bed37561-e0b8-422d-b1aa-a46265699a06",
   "metadata": {},
   "outputs": [
    {
     "data": {
      "text/plain": [
       "array([-3, -3, -3])"
      ]
     },
     "execution_count": 27,
     "metadata": {},
     "output_type": "execute_result"
    }
   ],
   "source": [
    "a = np.array([1, 2, 3])\n",
    "b = np.array([4, 5, 6])\n",
    "c = np.subtract(a, b)\n",
    "c"
   ]
  },
  {
   "cell_type": "markdown",
   "id": "15690c2a-ecb6-49b6-a5f3-4757e3ab1939",
   "metadata": {},
   "source": [
    "# Numpy array attributes\n",
    "### ndarray.shape\n",
    "*This returns a tuple consisting of array dimensions."
   ]
  },
  {
   "cell_type": "code",
   "execution_count": 28,
   "id": "1f060dd8-8bf0-4f6e-a82e-26d7602f65be",
   "metadata": {},
   "outputs": [
    {
     "name": "stdout",
     "output_type": "stream",
     "text": [
      "(2, 3)\n"
     ]
    }
   ],
   "source": [
    "array_1 = np.array([[1,2,3],[4,5,6]])\n",
    "print(array_1.shape)"
   ]
  },
  {
   "cell_type": "code",
   "execution_count": 29,
   "id": "e0a3ec70-bfff-45d5-8ccd-d088e893bb27",
   "metadata": {},
   "outputs": [
    {
     "name": "stdout",
     "output_type": "stream",
     "text": [
      "(4, 2, 3)\n"
     ]
    }
   ],
   "source": [
    "array_2 = np.array([[[1,2,3],[4,5,6]],\n",
    "                       [[1,3,3],[4,5,6]],\n",
    "                       [[1,3,3],[4,5,6]],\n",
    "                       [[1,3,3],[4,5,6]]])\n",
    "print(array_2.shape)"
   ]
  },
  {
   "cell_type": "markdown",
   "id": "2b9f0d0c-b752-4933-97ef-b259300d9ed0",
   "metadata": {},
   "source": [
    "### ndarray.ndim\n",
    "*This returns the number of array dimensions."
   ]
  },
  {
   "cell_type": "code",
   "execution_count": 30,
   "id": "98fdbbbf-3df8-4f41-805a-04992f8bd120",
   "metadata": {},
   "outputs": [
    {
     "name": "stdout",
     "output_type": "stream",
     "text": [
      "The dimension of array_3:  2\n"
     ]
    }
   ],
   "source": [
    "array_3 = np.array([[1,2,3],[4,5,6]])\n",
    "print(f\"The dimension of array_3: \",array_3.ndim)"
   ]
  },
  {
   "cell_type": "markdown",
   "id": "acb9c13c-c2bf-4898-81a4-c2c51d8e3de2",
   "metadata": {},
   "source": [
    "### ndarray.size\n",
    "*This returns the total number of elements in the array"
   ]
  },
  {
   "cell_type": "markdown",
   "id": "48f1f187-37d7-4756-8f74-f50793764298",
   "metadata": {},
   "source": [
    "array_4 = np.array([[1,2,3],[4,5,6]])\n",
    "print(f\"The total number of elements in array_4 =  {array_4.size}\")"
   ]
  },
  {
   "cell_type": "markdown",
   "id": "30bb1150-37ca-43e5-8a49-fb6ea2b9cccd",
   "metadata": {},
   "source": [
    "### ndarray.dtype\n",
    "*This returns the data type of the array"
   ]
  },
  {
   "cell_type": "markdown",
   "id": "adbea508-dae6-4198-be95-949291f38db9",
   "metadata": {},
   "source": [
    "array_5 = np.array([1,2,3,4,5])\n",
    "print(array_5.dtype)"
   ]
  },
  {
   "cell_type": "markdown",
   "id": "2252c39a-2840-408f-afd9-23213ef8f55f",
   "metadata": {},
   "source": [
    "### ndarray.astype\n",
    "*This changes the data type of an array."
   ]
  },
  {
   "cell_type": "code",
   "execution_count": 34,
   "id": "a2ca14b4-c65a-4001-8e94-c8990ea387b1",
   "metadata": {},
   "outputs": [
    {
     "name": "stdout",
     "output_type": "stream",
     "text": [
      "float64\n",
      "[2. 3. 4.]\n"
     ]
    }
   ],
   "source": [
    "array_7 = np.array([2,3,4])\n",
    "array_7_ = array_7.astype('float64')\n",
    "print(array_7_.dtype)\n",
    "print(array_7_)"
   ]
  },
  {
   "cell_type": "markdown",
   "id": "e0c19275-11f9-43d9-8eba-45abe1c7dd93",
   "metadata": {},
   "source": [
    "# Array Manipulation"
   ]
  },
  {
   "cell_type": "markdown",
   "id": "2c9b4e49-4805-47a2-800b-0b0e336bfd9e",
   "metadata": {},
   "source": [
    "### np.transpose(array)"
   ]
  },
  {
   "cell_type": "code",
   "execution_count": 36,
   "id": "b91836aa-dad4-4325-9fc6-d0b9eddf346f",
   "metadata": {},
   "outputs": [
    {
     "data": {
      "text/plain": [
       "array([[2, 2],\n",
       "       [2, 2],\n",
       "       [4, 1],\n",
       "       [3, 5],\n",
       "       [5, 5],\n",
       "       [5, 3],\n",
       "       [3, 3],\n",
       "       [3, 3]])"
      ]
     },
     "execution_count": 36,
     "metadata": {},
     "output_type": "execute_result"
    }
   ],
   "source": [
    "array_8 = np.array(np.random.randint(1,6,(8,2)))\n",
    "array_8"
   ]
  },
  {
   "cell_type": "code",
   "execution_count": 37,
   "id": "69d93e5d-c34f-498b-beee-c5ff500e2d60",
   "metadata": {},
   "outputs": [
    {
     "data": {
      "text/plain": [
       "array([[2, 2, 4, 3, 5, 5, 3, 3],\n",
       "       [2, 2, 1, 5, 5, 3, 3, 3]])"
      ]
     },
     "execution_count": 37,
     "metadata": {},
     "output_type": "execute_result"
    }
   ],
   "source": [
    "transpose_arr = np.transpose(array_8)\n",
    "transpose_arr\n"
   ]
  },
  {
   "cell_type": "markdown",
   "id": "28a7fa8c-1bd1-4d31-9e26-4a457c4152b3",
   "metadata": {},
   "source": [
    "### np.reshape(array,shape)\n",
    "*To Change shape of an array"
   ]
  },
  {
   "cell_type": "code",
   "execution_count": 38,
   "id": "428335b0-45d0-49ce-8e03-b99653bbcc41",
   "metadata": {},
   "outputs": [
    {
     "data": {
      "text/plain": [
       "array([[2, 1],\n",
       "       [5, 3],\n",
       "       [3, 1],\n",
       "       [5, 1],\n",
       "       [4, 2],\n",
       "       [1, 4]])"
      ]
     },
     "execution_count": 38,
     "metadata": {},
     "output_type": "execute_result"
    }
   ],
   "source": [
    "array_9 = np.array(np.random.randint(1,6,(6,2)))\n",
    "array_9"
   ]
  },
  {
   "cell_type": "markdown",
   "id": "4e512990-c7a7-4fac-b190-1789b4c2e27d",
   "metadata": {},
   "source": [
    "# flatten"
   ]
  },
  {
   "cell_type": "code",
   "execution_count": 39,
   "id": "81751957-5321-4f9f-8d6b-11450cd26d5b",
   "metadata": {},
   "outputs": [
    {
     "data": {
      "text/plain": [
       "array([[2, 5],\n",
       "       [3, 5],\n",
       "       [1, 5],\n",
       "       [1, 3],\n",
       "       [1, 1],\n",
       "       [1, 4]])"
      ]
     },
     "execution_count": 39,
     "metadata": {},
     "output_type": "execute_result"
    }
   ],
   "source": [
    "array_10 = np.array(np.random.randint(1,6,(6,2)))\n",
    "array_10"
   ]
  },
  {
   "cell_type": "code",
   "execution_count": 40,
   "id": "63f4f734-ed0c-44f5-88bd-4a21ca99875e",
   "metadata": {},
   "outputs": [
    {
     "data": {
      "text/plain": [
       "array([2, 5, 3, 5, 1, 5, 1, 3, 1, 1, 1, 4])"
      ]
     },
     "execution_count": 40,
     "metadata": {},
     "output_type": "execute_result"
    }
   ],
   "source": [
    "array_10.flatten()"
   ]
  }
 ],
 "metadata": {
  "kernelspec": {
   "display_name": "Python 3 (ipykernel)",
   "language": "python",
   "name": "python3"
  },
  "language_info": {
   "codemirror_mode": {
    "name": "ipython",
    "version": 3
   },
   "file_extension": ".py",
   "mimetype": "text/x-python",
   "name": "python",
   "nbconvert_exporter": "python",
   "pygments_lexer": "ipython3",
   "version": "3.11.7"
  }
 },
 "nbformat": 4,
 "nbformat_minor": 5
}
